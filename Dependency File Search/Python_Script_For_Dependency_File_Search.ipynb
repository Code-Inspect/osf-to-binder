{
  "cells": [
    {
      "cell_type": "code",
      "execution_count": null,
      "metadata": {
        "colab": {
          "base_uri": "https://localhost:8080/"
        },
        "id": "4a82_Pz9Z8bo",
        "outputId": "c7faa662-df69-4f01-8410-7efcdbeb35d2"
      },
      "outputs": [],
      "source": [
        "pip install osfclient"
      ]
    },
    {
      "cell_type": "code",
      "execution_count": null,
      "metadata": {
        "colab": {
          "base_uri": "https://localhost:8080/"
        },
        "id": "uDHs7DIL1NVZ",
        "outputId": "0b21c80d-4f59-4200-952d-795a39cadd20"
      },
      "outputs": [],
      "source": [
        "# 1) Python script to search for the file or a folder through OSF Project\n",
        "\n",
        "from osfclient.api import OSF\n",
        "\n",
        "# Set up the OSF project details\n",
        "project_id = 'rs6un'  # Project ID\n",
        "target_name = 'data.prep.R'  # The specific file or folder name\n",
        "\n",
        "# Initialize OSF and access the project\n",
        "osf = OSF()\n",
        "project = osf.project(project_id)\n",
        "storage = project.storage('osfstorage')\n",
        "\n",
        "def find_item(storage, target_name):\n",
        "    \"\"\"\n",
        "    Searches through the OSF storage to find the specified file or folder.\n",
        "    \"\"\"\n",
        "    # If the target_name is a file name then check for matching files in storage.files\n",
        "    for file in storage.files:\n",
        "        if file.name == target_name:\n",
        "            print(f\"Found file: {file.name} at path: {file.path}\")\n",
        "            return True\n",
        "\n",
        "    # If the target_name is a folder name then check for matching folders in storage.folders\n",
        "    for folder in storage.folders:\n",
        "        if folder.name == target_name:\n",
        "            print(f\"Found folder: {folder.name} at path: {folder.path}\")\n",
        "            return True\n",
        "        else:\n",
        "            print(f\"Entering folder: {folder.name}\")\n",
        "            # Recursively search within each folder\n",
        "            if find_item(folder, target_name):\n",
        "                return True\n",
        "\n",
        "    return False\n",
        "\n",
        "# Start the search\n",
        "if not find_item(storage, target_name):\n",
        "    print(f\"The item '{target_name}' was not found in the project.\")\n"
      ]
    },
    {
      "cell_type": "code",
      "execution_count": null,
      "metadata": {
        "colab": {
          "base_uri": "https://localhost:8080/",
          "height": 106
        },
        "id": "0A53RoZSfWtg",
        "outputId": "ad66bb09-38ff-4d47-fd39-747cc3952ed1"
      },
      "outputs": [],
      "source": [
        "# 2) Python script to search for the file or a folder through OSF Project and download it locally\n",
        "\n",
        "from osfclient.api import OSF\n",
        "import os\n",
        "\n",
        "# Set up the OSF project details\n",
        "project_id = 'rs6un'  # Replace with your actual project ID\n",
        "target_name = 'data.prep.R'  # The specific file or folder you want to download\n",
        "\n",
        "# Get the current working directory as the download path\n",
        "download_directory = os.getcwd()  # This sets the path to the current directory\n",
        "\n",
        "# Initialize OSF and access the project\n",
        "osf = OSF()\n",
        "project = osf.project(project_id)\n",
        "storage = project.storage('osfstorage')\n",
        "\n",
        "def download_file(file, download_path, osf_path):\n",
        "    \"\"\"\n",
        "    Downloads a single file to the specified path and prints where it was found.\n",
        "    \"\"\"\n",
        "    file_path = os.path.join(download_path, file.name)\n",
        "    print(f\"Found file '{file.name}' in OSF path: '{osf_path}'\")\n",
        "    print(f\"Downloading file to {file_path}...\")\n",
        "    with open(file_path, 'wb') as f:\n",
        "        file.write_to(f)\n",
        "    print(f\"Downloaded '{file.name}' successfully to {file_path}.\")\n",
        "\n",
        "    # If running in Google Colab, trigger a download to the local machine\n",
        "    try:\n",
        "        from google.colab import files\n",
        "        files.download(file_path)\n",
        "        print(f\"Triggered download of '{file.name}' to your local machine.\")\n",
        "    except ImportError:\n",
        "        print(\"Not running in Google Colab. The file is saved locally.\")\n",
        "\n",
        "def download_folder(folder, download_path, osf_path):\n",
        "    \"\"\"\n",
        "    Recursively downloads all contents of a folder to the specified path.\n",
        "    \"\"\"\n",
        "    folder_path = os.path.join(download_path, folder.name)\n",
        "    if not os.path.exists(folder_path):\n",
        "        os.makedirs(folder_path)\n",
        "\n",
        "    print(f\"Found folder '{folder.name}' in OSF path: '{osf_path}'\")\n",
        "\n",
        "    # Download all files in the folder\n",
        "    for file in folder.files:\n",
        "        download_file(file, folder_path, osf_path + '/' + file.name)\n",
        "\n",
        "    # Recursively download all subfolders\n",
        "    for subfolder in folder.folders:\n",
        "        download_folder(subfolder, folder_path, osf_path + '/' + subfolder.name)\n",
        "\n",
        "def find_and_download_item(storage, target_name, download_path, osf_path=\"\"):\n",
        "    \"\"\"\n",
        "    Searches through the OSF storage to find and download the specified file or folder.\n",
        "    \"\"\"\n",
        "    # Check for matching files in storage.files\n",
        "    for file in storage.files:\n",
        "        if file.name == target_name:\n",
        "            download_file(file, download_path, osf_path + '/' + file.name)\n",
        "            return True\n",
        "\n",
        "    # Check for matching folders in storage.folders\n",
        "    for folder in storage.folders:\n",
        "        if folder.name == target_name:\n",
        "            print(f\"Found folder: {folder.name}. Downloading all contents to {download_path}...\")\n",
        "            download_folder(folder, download_path, osf_path + '/' + folder.name)\n",
        "            return True\n",
        "        else:\n",
        "            # Recursively search within each folder\n",
        "            if find_and_download_item(folder, target_name, download_path, osf_path + '/' + folder.name):\n",
        "                return True\n",
        "\n",
        "    return False\n",
        "\n",
        "# Start the search and download process\n",
        "if not find_and_download_item(storage, target_name, download_directory):\n",
        "    print(f\"The item '{target_name}' was not found in the project.\")\n"
      ]
    },
    {
      "cell_type": "code",
      "execution_count": null,
      "metadata": {
        "colab": {
          "base_uri": "https://localhost:8080/"
        },
        "id": "MV_cIwH0-R4U",
        "outputId": "84975605-b95b-4e52-a372-cfc78e993c82"
      },
      "outputs": [],
      "source": [
        "# 3) To search for the dependency file of the OSF project\n",
        "from osfclient.api import OSF\n",
        "\n",
        "# Set up the OSF project details\n",
        "project_id = '7h94n'  # Replace with your actual project ID\n",
        "\n",
        "# List of common dependency file names to search for\n",
        "dependency_files = [\n",
        "    'renv.lock', 'sessionInfo.txt', 'sessionInfo.RData', '.Rprofile', 'DESCRIPTION', 'NAMESPACE',\n",
        "    'requirements.txt', 'environment.yml', 'Dockerfile', 'README.md', 'README.txt', 'Makefile',\n",
        "    'metadata.yml', 'metadata.json'\n",
        "]\n",
        "\n",
        "# Initialize OSF and access the project\n",
        "osf = OSF()\n",
        "project = osf.project(project_id)\n",
        "storage = project.storage('osfstorage')\n",
        "\n",
        "def search_dependency_files(storage, dependency_files, current_path=\"\", found_files={}):\n",
        "    \"\"\"\n",
        "    Recursively searches for common dependency files in the OSF storage and records unique OSF paths if found.\n",
        "    \"\"\"\n",
        "    # Check for matching files in storage.files\n",
        "    for file in storage.files:\n",
        "        if file.name in dependency_files:\n",
        "            # Construct the full OSF path, including folders\n",
        "            full_osf_path = f\"{current_path}/{file.name}\" if current_path else f\"/{file.name}\"\n",
        "            # Store only if file is unique or appears in a different path\n",
        "            if file.name not in found_files or found_files[file.name] != full_osf_path:\n",
        "                print(f\"Found dependency file: {file.name} in OSF path: {full_osf_path}\")\n",
        "                found_files[file.name] = full_osf_path\n",
        "\n",
        "    # Recursively search folders\n",
        "    for folder in storage.folders:\n",
        "        # Build the new path by appending the current folder's name\n",
        "        new_path = f\"{current_path}/{folder.name}\" if current_path else f\"/{folder.name}\"\n",
        "        search_dependency_files(folder, dependency_files, new_path, found_files)\n",
        "\n",
        "    return found_files\n",
        "\n",
        "# Start the search for dependency files\n",
        "unique_files = search_dependency_files(storage, dependency_files)\n",
        "\n",
        "# Print the result\n",
        "if not unique_files:\n",
        "    print(\"No dependency files were found in the project.\")\n",
        "else:\n",
        "    print(\"\\nList of unique dependency files with their OSF paths:\")\n",
        "    for file_path in unique_files.values():\n",
        "        print(file_path)\n",
        "\n"
      ]
    },
    {
      "cell_type": "code",
      "execution_count": null,
      "metadata": {},
      "outputs": [],
      "source": [
        "import pandas as pd\n",
        "\n",
        "osf_metadata = pd.read_csv(\"OSF_Meta_Data_SC_v0.csv\")\n",
        "osf_metadata"
      ]
    },
    {
      "cell_type": "code",
      "execution_count": null,
      "metadata": {},
      "outputs": [],
      "source": [
        "source_url_list = list(osf_metadata.Source.dropna().unique())\n",
        "source_url_list"
      ]
    },
    {
      "cell_type": "code",
      "execution_count": null,
      "metadata": {},
      "outputs": [],
      "source": [
        "len(source_url_list)"
      ]
    },
    {
      "cell_type": "code",
      "execution_count": null,
      "metadata": {},
      "outputs": [],
      "source": [
        "from tqdm import tqdm\n",
        "\n",
        "osf = OSF()\n",
        "\n",
        "all_unique_files = {}\n",
        "for url in tqdm(source_url_list):\n",
        "    project_id = url.split('/')[-2]\n",
        "    project = osf.project(project_id)\n",
        "    storage = project.storage('osfstorage')\n",
        "    unique_files = search_dependency_files(storage, dependency_files)\n",
        "    \n",
        "    all_unique_files[url] = unique_files\n",
        "\n",
        "all_unique_files"
      ]
    }
  ],
  "metadata": {
    "colab": {
      "provenance": []
    },
    "kernelspec": {
      "display_name": ".venv",
      "language": "python",
      "name": "python3"
    },
    "language_info": {
      "codemirror_mode": {
        "name": "ipython",
        "version": 3
      },
      "file_extension": ".py",
      "mimetype": "text/x-python",
      "name": "python",
      "nbconvert_exporter": "python",
      "pygments_lexer": "ipython3",
      "version": "3.12.5"
    }
  },
  "nbformat": 4,
  "nbformat_minor": 0
}
